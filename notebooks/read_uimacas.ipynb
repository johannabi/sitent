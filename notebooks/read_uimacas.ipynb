{
 "cells": [
  {
   "cell_type": "code",
   "execution_count": 1,
   "metadata": {},
   "outputs": [],
   "source": [
    "import cassis\n",
    "import os\n",
    "from tqdm import tqdm"
   ]
  },
  {
   "cell_type": "code",
   "execution_count": 2,
   "metadata": {},
   "outputs": [
    {
     "name": "stderr",
     "output_type": "stream",
     "text": [
      "100%|██████████| 368/368 [01:22<00:00,  4.46it/s]"
     ]
    },
    {
     "name": "stdout",
     "output_type": "stream",
     "text": [
      "367\n"
     ]
    },
    {
     "name": "stderr",
     "output_type": "stream",
     "text": [
      "\n"
     ]
    }
   ],
   "source": [
    "folder = \"../annotated_corpus/annotated_xmi/\"\n",
    "cas_dict = dict()\n",
    "\n",
    "with open(\"\".join([folder, \"TypeSystem.xml\"]), \"rb\") as f:\n",
    "    ts = cassis.load_typesystem(f)\n",
    "\n",
    "for file in tqdm(os.listdir(folder)):\n",
    "    if file == \"TypeSystem.xml\":\n",
    "        continue\n",
    "    with open(\"\".join([folder, file]), \"rb\") as f:\n",
    "        cas = cassis.load_cas_from_xmi(f, typesystem=ts)\n",
    "    cas_dict[file] = cas\n",
    "print(len(cas_dict))"
   ]
  },
  {
   "cell_type": "code",
   "execution_count": null,
   "metadata": {},
   "outputs": [],
   "source": [
    "for t in ts.get_types():\n",
    "    print(t)"
   ]
  },
  {
   "cell_type": "code",
   "execution_count": null,
   "metadata": {},
   "outputs": [],
   "source": [
    "#Type(name=webanno.custom.SE_Features)\n",
    "#Type(name=webanno.custom.SE_Link)\n",
    "#Type(name=webanno.custom.SituationEntities)"
   ]
  },
  {
   "cell_type": "code",
   "execution_count": null,
   "metadata": {},
   "outputs": [],
   "source": [
    "cas = cas_dict['fiction_A_Wasted_Day.txt.xmi']\n",
    "for sentence in cas.select('de.tudarmstadt.ukp.dkpro.core.api.segmentation.type.Sentence'):\n",
    "\n",
    "    for feature in cas.select('de.tudarmstadt.ukp.dkpro.core.api.lexmorph.type.morph.MorphologicalFeatures'):\n",
    "        print(feature)\n",
    "        print(feature.get_covered_text())\n",
    "        print(type(feature.value))\n",
    "        print(feature.Number)\n",
    "        print('------------')\n",
    "    \n",
    "    "
   ]
  },
  {
   "cell_type": "code",
   "execution_count": null,
   "metadata": {},
   "outputs": [],
   "source": []
  },
  {
   "cell_type": "code",
   "execution_count": null,
   "metadata": {},
   "outputs": [],
   "source": [
    "for doc, cas in cas_dict.items():\n",
    "    for sentence in cas.select('de.tudarmstadt.ukp.dkpro.core.api.segmentation.type.Sentence'):\n",
    "        for se in cas.select_covered('webanno.custom.SituationEntities', sentence):\n",
    "\n",
    "            if se.SE_Type == \"QUESTION\":\n",
    "                print(sentence.get_covered_text())\n",
    "                print(se)\n",
    "                try:\n",
    "                    covered_morph = cas.select_covered('de.tudarmstadt.ukp.dkpro.core.api.lexmorph.type.morph.MorphologicalFeatures', se)[0]\n",
    "                    #print(covered_morph)\n",
    "                except IndexError:\n",
    "                    pass\n",
    "                print(se.get_covered_text())\n",
    "                print('--------------')"
   ]
  },
  {
   "cell_type": "code",
   "execution_count": 5,
   "metadata": {},
   "outputs": [
    {
     "name": "stdout",
     "output_type": "stream",
     "text": [
      "Entrepreneur \n",
      "A newsboy was standing on the corner with a his papers, yelling, \"Read all about it.\n",
      "w.c.SituationEntities(SE_Type=IMPERATIVE, begin=814, end=833, instanceid=jokes_jokes1.txt_29)\n",
      "\"Read all about it.\n",
      "--------------\n",
      "The newsboy just ignored him and went on calling out, \"Read all about it.\n",
      "w.c.SituationEntities(SE_Type=IMPERATIVE, begin=1126, end=1145, instanceid=jokes_jokes1.txt_41)\n",
      "\"Read all about it.\n",
      "--------------\n",
      "Factor X\n",
      "Noah opens up the great front doors on the ark and let all the animals out, telling them to \"Go forth and multiply.\"\n",
      "w.c.SituationEntities(SE_Type=IMPERATIVE, begin=5820, end=5834, instanceid=jokes_jokes1.txt_180)\n",
      "and multiply.\"\n",
      "--------------\n",
      "Go forth and multiply.\"\n",
      "w.c.SituationEntities(SE_Type=IMPERATIVE, begin=5990, end=5998, instanceid=jokes_jokes1.txt_186)\n",
      "Go forth\n",
      "--------------\n",
      "Go forth and multiply.\"\n",
      "w.c.SituationEntities(SE_Type=IMPERATIVE, begin=5999, end=6013, instanceid=jokes_jokes1.txt_187)\n",
      "and multiply.\"\n",
      "--------------\n",
      "\"Never try to teach a pig to sing.\n",
      "w.c.SituationEntities(SE_Type=IMPERATIVE, begin=6610, end=6644, instanceid=jokes_jokes1.txt_206)\n",
      "\"Never try to teach a pig to sing.\n",
      "--------------\n",
      "She immediately cried, \"Stop, thief!\"\n",
      "w.c.SituationEntities(SE_Type=IMPERATIVE, begin=9753, end=9767, instanceid=jokes_jokes1.txt_302)\n",
      "\"Stop, thief!\"\n",
      "--------------\n",
      "When interviewed about this, a spokesperson for the airlines said, 'Shut up and get back in line!'\n",
      "w.c.SituationEntities(SE_Type=IMPERATIVE, begin=11744, end=11766, instanceid=jokes_jokes1.txt_355)\n",
      "and get back in line!'\n",
      "--------------\n",
      "If quitters never win, and winners never quit, what fool came up with, \"Quit while you're ahead\"?\n",
      "w.c.SituationEntities(SE_Type=IMPERATIVE, begin=15397, end=15402, instanceid=jokes_jokes1.txt_444)\n",
      "\"Quit\n",
      "--------------\n",
      "Sum it up this way….\n",
      "w.c.SituationEntities(SE_Type=IMPERATIVE, begin=18751, end=18771, instanceid=jokes_jokes1.txt_538)\n",
      "Sum it up this way….\n",
      "--------------\n"
     ]
    }
   ],
   "source": [
    "cas = cas_dict['jokes_jokes1.txt.xmi']\n",
    "\n",
    "for sentence in cas.select('de.tudarmstadt.ukp.dkpro.core.api.segmentation.type.Sentence'):\n",
    "    for se in cas.select_covered('webanno.custom.SituationEntities', sentence):\n",
    "\n",
    "        if se.SE_Type == \"IMPERATIVE\":\n",
    "            print(sentence.get_covered_text())\n",
    "            print(se)\n",
    "            try:\n",
    "                covered_morph = cas.select_covered('de.tudarmstadt.ukp.dkpro.core.api.lexmorph.type.morph.MorphologicalFeatures', se)[0]\n",
    "                #print(covered_morph)\n",
    "            except IndexError:\n",
    "                pass\n",
    "            print(se.get_covered_text())\n",
    "            print('--------------')\n",
    "\n"
   ]
  },
  {
   "cell_type": "code",
   "execution_count": null,
   "metadata": {},
   "outputs": [],
   "source": [
    "for se in cas.select('webanno.custom.SE_Features'):\n",
    "    print(se)\n",
    "    print(se.get_covered_text())\n",
    "    print('----------------------')\n",
    "\n",
    "for se in cas.select('webanno.custom.SituationEntities'):\n",
    "    print(se)\n",
    "    print(se.get_covered_text())\n",
    "    print('----------------------')"
   ]
  }
 ],
 "metadata": {
  "kernelspec": {
   "display_name": "generics",
   "language": "python",
   "name": "python3"
  },
  "language_info": {
   "codemirror_mode": {
    "name": "ipython",
    "version": 3
   },
   "file_extension": ".py",
   "mimetype": "text/x-python",
   "name": "python",
   "nbconvert_exporter": "python",
   "pygments_lexer": "ipython3",
   "version": "3.12.7"
  }
 },
 "nbformat": 4,
 "nbformat_minor": 2
}
